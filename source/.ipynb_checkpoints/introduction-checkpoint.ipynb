{
 "cells": [
  {
   "cell_type": "markdown",
   "metadata": {},
   "source": [
    "---\n",
    "title: Introduction\n",
    "author: <a href=\"http://stanford.edu/~ejdemyr/\"> Simon Ejdemyr </a> \n",
    "date: December, 2015\n",
    "summary: In this first in a number of tutorials, we'll cover the very basics of\n",
    " R. If you've programmed before you can skip much of this. But\n",
    " regardless of your background, I hope you'll find this and subsequent\n",
    " tutorials useful for learning R's many tools for graphing,\n",
    " statistical analysis, and data collection and management --- or what we\n",
    " collectively might call \"data science.\" \n",
    "output:\n",
    "  html_document:\n",
    "     template: ../template/r-tutorial-template-v2.html\n",
    "     mathjax: null\n",
    "---"
   ]
  },
  {
   "cell_type": "markdown",
   "metadata": {},
   "source": [
    "Running R\n",
    "=================\n",
    "\n",
    "You can run R using a number of text editors or \"integrated\n",
    "development environments\" (IDEs). Most people prefer some other\n",
    "application than R's native environment, which provides only limited\n",
    "functionality in terms of syntax highlighting, auto-completion, and\n",
    "debugging. Alternatives include [RStudio](https://www.rstudio.com/)\n",
    "and\n",
    "[Emacs](https://www.gnu.org/software/emacs/)/[ESS](http://ess.r-project.org/). I\n",
    "very much prefer the latter, but if you've never programmed before I\n",
    "would go with RStudio (installation instructions\n",
    "[here](https://www.rstudio.com/products/rstudio/download/); note that\n",
    "you need both R and RStudio).\n",
    "\n",
    "All IDEs include a console and a text editor. The console is where you'll\n",
    "see the results (or *output*) of commands executed from the editor. You can\n",
    "type commands directly into the console, but this is generally not a good\n",
    "strategy. This is because the whole purpose of writing code is to make\n",
    "it reproducible. Typing commands in the text editor will let you\n",
    "come back to them later as long as you save them (using extension .R).\n",
    "\n",
    "\n",
    "Your first script\n",
    "======================\n",
    "\n",
    "Fire up RStudio (or whatever IDE you use) and type the following two\n",
    "lines into the text editor. Then execute them, which can be done using a\n",
    "[keyboard shortcut](https://support.rstudio.com/hc/en-us/articles/200711853-Keyboard-Shortcuts)\n",
    "--- <span class=\"fw\">Ctrl+Enter</span> (Windows) or <span\n",
    "class=\"fw\">Command+Enter</span> (mac) in RStudio."
   ]
  },
  {
   "cell_type": "code",
   "execution_count": 1,
   "metadata": {},
   "outputs": [
    {
     "data": {
      "text/html": [
       "'hello world'"
      ],
      "text/latex": [
       "'hello world'"
      ],
      "text/markdown": [
       "'hello world'"
      ],
      "text/plain": [
       "[1] \"hello world\""
      ]
     },
     "metadata": {},
     "output_type": "display_data"
    }
   ],
   "source": [
    "hello_world <- \"hello world\"\n",
    "hello_world "
   ]
  },
  {
   "cell_type": "markdown",
   "metadata": {},
   "source": [
    "In case it's not obvious, R output is displayed in\n",
    "<span style=\"color: #969696;\"> gray</span>, above which is code that you\n",
    "should type into your text editor.\n",
    "\n",
    "Now execute the following code (but type it into your text editor first):"
   ]
  },
  {
   "cell_type": "code",
   "execution_count": 2,
   "metadata": {},
   "outputs": [
    {
     "data": {
      "text/html": [
       "-2"
      ],
      "text/latex": [
       "-2"
      ],
      "text/markdown": [
       "-2"
      ],
      "text/plain": [
       "[1] -2"
      ]
     },
     "metadata": {},
     "output_type": "display_data"
    },
    {
     "data": {
      "text/html": [
       "22"
      ],
      "text/latex": [
       "22"
      ],
      "text/markdown": [
       "22"
      ],
      "text/plain": [
       "[1] 22"
      ]
     },
     "metadata": {},
     "output_type": "display_data"
    },
    {
     "data": {
      "text/html": [
       "12"
      ],
      "text/latex": [
       "12"
      ],
      "text/markdown": [
       "12"
      ],
      "text/plain": [
       "[1] 12"
      ]
     },
     "metadata": {},
     "output_type": "display_data"
    },
    {
     "data": {
      "text/html": [
       "TRUE"
      ],
      "text/latex": [
       "TRUE"
      ],
      "text/markdown": [
       "TRUE"
      ],
      "text/plain": [
       "[1] TRUE"
      ]
     },
     "metadata": {},
     "output_type": "display_data"
    },
    {
     "data": {
      "text/html": [
       "FALSE"
      ],
      "text/latex": [
       "FALSE"
      ],
      "text/markdown": [
       "FALSE"
      ],
      "text/plain": [
       "[1] FALSE"
      ]
     },
     "metadata": {},
     "output_type": "display_data"
    },
    {
     "data": {
      "text/html": [
       "TRUE"
      ],
      "text/latex": [
       "TRUE"
      ],
      "text/markdown": [
       "TRUE"
      ],
      "text/plain": [
       "[1] TRUE"
      ]
     },
     "metadata": {},
     "output_type": "display_data"
    }
   ],
   "source": [
    "# Create two objects and perform simple arithmetics\n",
    "a <- 5\n",
    "b <- 7\n",
    "a - b\n",
    "a + b + 10\n",
    "\n",
    "# Create a third object \n",
    "w <- a + b\n",
    "w\n",
    "\n",
    "# Logical tests \n",
    "w - b == a\n",
    "w - b > a\n",
    "b <- 1             #overwrite b \n",
    "x <- w - b > a\n",
    "x"
   ]
  },
  {
   "cell_type": "markdown",
   "metadata": {},
   "source": [
    "Does the output make sense to you? (I'm not displaying it here so that\n",
    "you can try to make sense of it yourself first.)\n",
    "\n",
    "Here are some things to pay attention to from our first few lines of code:\n",
    "\n",
    "1. **Comments**. Anything after `#` is a comment and won't be evaluated by R.\n",
    "\n",
    "2. **The assignment operator**. R uses `<-` (the assignment\n",
    "operator) to create objects. A single equal sign (`=`) also works, but\n",
    "the norm is to use `<-` in R. \n",
    "\n",
    "3. **Objects**. We used the assignment operator to create *objects*\n",
    "--- for example, `hello_world` and `a`. The names of these objects are\n",
    "completely arbitrary. Unless they are created within a function, they\n",
    "are stored in R's memory with the value you assigned to them (e.g.,\n",
    "`\"hello world\"`, `5`) until the end of your R session.\n",
    "\n",
    "4. **Class.** R automatically assigns a class to each object\n",
    "you create. Three classes were used above: numeric,\n",
    "character, and logical. Use `class()` to see what type an object is\n",
    "(e.g., `class(hello_world)`, `class(a)`, and `class(x)`). Why is this\n",
    "important? For one, you may think a certain object has one class when\n",
    "it has another. This will cause issues. For example, this throws an error: \n",
    "\n",
    "<div class=\"indent\">"
   ]
  },
  {
   "cell_type": "raw",
   "metadata": {},
   "source": [
    "a <- 5\n",
    "b <- \"7\"\n",
    "a + b "
   ]
  },
  {
   "cell_type": "markdown",
   "metadata": {},
   "source": [
    "Not knowing that `b` is a character object (which often is much\n",
    "less obvious than here) would be frustrating. Other classes include\n",
    "<span class=\"fw\">factor</span>, <span class=\"fw\">matrix</span>,\n",
    "<span class=\"fw\">data.frame</span> and many more that we'll get to. \n",
    "</div>\n",
    "\n",
    "5. **Overwriting objects**. You can overwrite objects without R\n",
    "complaining (e.g., `b <- 1` above). This can be confusing if you don't\n",
    "keep track of which objects you have overwritten, but in general this\n",
    "ability is a good thing. R stores every object you create in\n",
    "memory, and overwriting an object saves memory to the extent that R\n",
    "doesn't need to hold an additional object, which may be consequential\n",
    "when you work with large datasets.\n",
    "\n",
    "\n",
    "Packages \n",
    "========================== \n",
    "\n",
    "The true power of R is that it's open-source. As such, anyone can\n",
    "extend its core functionality through packages. This often results in\n",
    "remarkable improvements to how we can approach complex data tasks. In\n",
    "subsequent tutorials, I will make particular use of a set of R packages \n",
    "developed by [Hadley Wickham](http://had.co.nz/). \n",
    "\n",
    "To use a package you must: \n",
    "\n",
    "1. **Install it.** You only need to do this once. \n",
    "2. **Load it.** You need to re-load packages every time you open R. \n",
    "\n",
    "\n",
    "To install packages `plyr`, `dplyr`, and `tidyr`, which we'll use a lot,\n",
    "run"
   ]
  },
  {
   "cell_type": "raw",
   "metadata": {},
   "source": [
    "install.packages(c(\"plyr\", \"dplyr\", \"tidyr\"), dep = T)"
   ]
  },
  {
   "cell_type": "markdown",
   "metadata": {},
   "source": [
    "And to load these packages, use:"
   ]
  },
  {
   "cell_type": "raw",
   "metadata": {},
   "source": [
    "require(plyr)\n",
    "require(dplyr)\n",
    "require(tidyr)"
   ]
  },
  {
   "cell_type": "markdown",
   "metadata": {},
   "source": [
    "Or you can load many packages more compactly like so:"
   ]
  },
  {
   "cell_type": "code",
   "execution_count": null,
   "metadata": {},
   "outputs": [],
   "source": [
    "pkgs <- c(\"plyr\", \"dplyr\", \"tidyr\")\n",
    "sapply(pkgs, require, character.only = T)"
   ]
  },
  {
   "cell_type": "markdown",
   "metadata": {},
   "source": [
    "<div style=\"margin-top: 15px\"> </div>\n",
    "\n",
    "Style\n",
    "======================\n",
    "\n",
    "Writing good code requires a lot of practice. Good code executes\n",
    "quickly and is non-repetitive (e.g., uses functions for tasks that\n",
    "need to be executed several times). But most importantly for you right\n",
    "now, good code is easy to understand --- both for yourself if you were\n",
    "to come back to it and for someone else reading it.\n",
    "\n",
    "To that end, comments are extremely useful. Comments can delineate\n",
    "different blocks of code and, more importantly, clarify what a command\n",
    "or set of commands is doing. Especially use comments if you're doing\n",
    "something complex --- save them for routine tasks that most R\n",
    "programmers will understand.\n",
    "\n",
    "There are some other style guidelines you should attempt to follow.\n",
    "Please take a look at\n",
    "[Google's R Style Guide](https://google.github.io/styleguide/Rguide.xml).\n",
    "In particular, try to observe the spacing and line lengths limits\n",
    "outlined in that document. (Some other rules seem less important to\n",
    "me: I personally like underscores for object and function names.)\n",
    "\n",
    "\n",
    "\n",
    "\n",
    "Trouble shooting \n",
    "========================== \n",
    "\n",
    "Many, many times when coding you'll have an idea of what you want to\n",
    "do but won't know how to do it in R. This happens even for\n",
    "experienced coders. With the right strategies, you'll be able to solve\n",
    "a majority of issues you run into yourself. Not having to ask someone\n",
    "else every time you run into a problem will save you a lot of time.\n",
    "\n",
    "When you get stuck, google is your friend. For example, if you want\n",
    "to find the mean of a variable, try googling \"how to find mean in R\"\n",
    "and there will be tons of explanations of how to do this.\n",
    "\n",
    "R also has a help feature that can be called using the following\n",
    "syntax: `?commandname`, where `commandname` is the name of the command\n",
    "that you need help with. For example, `?mean` will bring up a help\n",
    "dialog box with information about how to use R's `mean()` command."
   ]
  }
 ],
 "metadata": {
  "kernelspec": {
   "display_name": "R",
   "language": "R",
   "name": "ir"
  },
  "language_info": {
   "codemirror_mode": "r",
   "file_extension": ".r",
   "mimetype": "text/x-r-source",
   "name": "R",
   "pygments_lexer": "r",
   "version": "3.5.2"
  }
 },
 "nbformat": 4,
 "nbformat_minor": 2
}
