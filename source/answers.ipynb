{
 "cells": [
  {
   "cell_type": "markdown",
   "metadata": {},
   "source": [
    "# Exercise Answers\n",
    "\n",
    "To get the most out of these tutorials, you should almost *never* use this page unless you get really stuck or you just want to check you did something correctly. A lot of programming is about trying things out and working through problems, so don't deny yourself the learning opportunity that process provides but looking at answers too quickly!"
   ]
  },
  {
   "cell_type": "markdown",
   "metadata": {},
   "source": [
    "## Answers for Introduction Tutorial"
   ]
  },
  {
   "cell_type": "markdown",
   "metadata": {},
   "source": [
    "### Answers for Variables Tutorial\n",
    "\n",
    "Problem: Let's suppose that you have a dinosaur zoo. In your zoo, you have two [T-Rexes](https://upload.wikimedia.org/wikipedia/commons/thumb/6/64/Tyrannosaurus_Rex_Dinosaurierland_Ruegen_2009.jpg/240px-Tyrannosaurus_Rex_Dinosaurierland_Ruegen_2009.jpg), three [Unaysaurus](http://images.dinosaurpictures.org/unaysaurusJB_57a6.jpg), and five [Spinosaurus](https://upload.wikimedia.org/wikipedia/commons/thumb/f/f4/Spinosaurus_-_Museu_Blau_-_2016_-_01.jpg/1024px-Spinosaurus_-_Museu_Blau_-_2016_-_01.jpg)"
   ]
  },
  {
   "cell_type": "code",
   "execution_count": 2,
   "metadata": {},
   "outputs": [
    {
     "data": {
      "text/html": [
       "10"
      ],
      "text/latex": [
       "10"
      ],
      "text/markdown": [
       "10"
      ],
      "text/plain": [
       "[1] 10"
      ]
     },
     "metadata": {},
     "output_type": "display_data"
    }
   ],
   "source": [
    "# 1. Create variables for the number of each dino you have called `my_trexes`, `my_unas`, and `my_spinos`. \n",
    "my_trexes = 2\n",
    "my_unas = 3\n",
    "my_spinos = 5\n",
    "\n",
    "# 2. Now use those variables to calculate how many total dinosaurs you have.\n",
    "my_trexes + my_unas + my_spinos"
   ]
  },
  {
   "cell_type": "code",
   "execution_count": 3,
   "metadata": {},
   "outputs": [
    {
     "data": {
      "text/html": [
       "9"
      ],
      "text/latex": [
       "9"
      ],
      "text/markdown": [
       "9"
      ],
      "text/plain": [
       "[1] 9"
      ]
     },
     "metadata": {},
     "output_type": "display_data"
    }
   ],
   "source": [
    "# 3. Oh no! One of your t-rexes got out and ate an Unaysaurus. Decrease the value of `my_unas` by one. \n",
    "\n",
    "my_unas = my_unas - 1\n",
    "\n",
    "# 4. Double oh no! Your T-Rexes were male and female, and they just had a baby! Increase you number T-Rexes by one!\n",
    "\n",
    "my_trexes = my_trexes + 1\n",
    "\n",
    "# 5. Sadly, one of your Spinosauruses died of old age. :( Decreases your count of Spinosauruses by one. \n",
    "\n",
    "my_spinos = my_spinos - 1\n",
    "\n",
    "# 6. How many dinos do you have now? You've probably lost count of all these changes, but thankfully they're all stored in variables, so you can just add them all up!\n",
    "\n",
    "my_trexes + my_unas + my_spinos"
   ]
  },
  {
   "cell_type": "code",
   "execution_count": null,
   "metadata": {},
   "outputs": [],
   "source": []
  }
 ],
 "metadata": {
  "kernelspec": {
   "display_name": "R",
   "language": "R",
   "name": "ir"
  },
  "language_info": {
   "codemirror_mode": "r",
   "file_extension": ".r",
   "mimetype": "text/x-r-source",
   "name": "R",
   "pygments_lexer": "r",
   "version": "3.5.2"
  }
 },
 "nbformat": 4,
 "nbformat_minor": 2
}
