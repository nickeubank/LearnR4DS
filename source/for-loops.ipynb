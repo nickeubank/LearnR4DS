{
 "cells": [
  {
   "cell_type": "markdown",
   "metadata": {},
   "source": [
    "---\n",
    "title: For Loops\n",
    "author: <a href=\"http://stanford.edu/~ejdemyr/\"> Simon Ejdemyr </a> \n",
    "date: January, 2016\n",
    "summary: For loops can be useful when you want to iterate a process in R ---\n",
    " e.g., run a simulation. This tutorial explains how to write for loops\n",
    " and shows how to use them to run Monte Carlo simulations. For loops are\n",
    " neat, but it's worth emphasizing that you should avoid them and instead use\n",
    " [vectorization](http://www.noamross.net/blog/2014/4/16/vectorization-in-r--why.html)\n",
    " --- which is much faster --- when possible. \n",
    "output:\n",
    "  html_document:\n",
    "     template: ../template/r-tutorial-template-v2.html\n",
    "     mathjax: null\n",
    "---\n",
    "\n",
    "\n",
    "\n",
    "Writing a for loop\n",
    "=========\n",
    "\n",
    "Let's start with a very simple example. Let's say you \n",
    "have the following vector `v1` with individuals' height in centimeters:"
   ]
  },
  {
   "cell_type": "code",
   "execution_count": null,
   "metadata": {},
   "outputs": [],
   "source": [
    "v1 <- c(175, 182, 150, 187, 165)"
   ]
  },
  {
   "cell_type": "markdown",
   "metadata": {},
   "source": [
    "We can convert the values in `v1` from centimeters to meters using a for loop:"
   ]
  },
  {
   "cell_type": "code",
   "execution_count": null,
   "metadata": {},
   "outputs": [],
   "source": [
    "v2 <- rep(NA, 5)               #create vector v2 with NA values \n",
    "for(i in 1:5) {                #loop over elements in v1 and store in v2  \n",
    "    v2[i] <- v1[i] / 100\n",
    "}\n",
    "v2                             #v2 after the for loop"
   ]
  },
  {
   "cell_type": "markdown",
   "metadata": {},
   "source": [
    "Note that we could have done this using\n",
    "[vectorization](http://www.noamross.net/blog/2014/4/16/vectorization-in-r--why.html),\n",
    "which is more compact and faster (when we have a lot of data):"
   ]
  },
  {
   "cell_type": "code",
   "execution_count": null,
   "metadata": {},
   "outputs": [],
   "source": [
    "v2 <- v1 / 100"
   ]
  },
  {
   "cell_type": "markdown",
   "metadata": {},
   "source": [
    "However, the example illustrates the following points about writing a\n",
    "for loop:\n",
    "\n",
    "1. Begin by creating an object that can store the results of your for\n",
    "loop.  In the example above, we created `v2` for this purpose. With\n",
    "vectors, we need to specify how many elements we want to eventually\n",
    "store, in this case 5. (This is not true if you wanted to store the\n",
    "results in a list.)  \n",
    "\n",
    "2. The basic structure of the loop usually is:"
   ]
  },
  {
   "cell_type": "raw",
   "metadata": {},
   "source": [
    "for(i in 1:n) {\n",
    "    #commands to execute for iteration i\n",
    "}"
   ]
  },
  {
   "cell_type": "markdown",
   "metadata": {},
   "source": [
    "Here `n` represents the number of times you want to iterate the loop. The loop \n",
    "will run from 1 to `n` by an integer count. If you instead wanted the loop to iterate\n",
    "from 1 to `n` but skip every other number you could use `seq(1, n, by = 2)` in place of \n",
    "`1:n`. \n",
    "\n",
    "3\\.&nbsp;Within the for loop we want to save the output of each iteration to an element of \n",
    "the vector (or list) we created initially (in this case `v2`).\n",
    "\\\n",
    "\\\n",
    "\n",
    "Here's a more general approach accomplishing the same thing, but where \n",
    "we keep the number of iterations flexible depending on how many elements \n",
    "`v1` contains:"
   ]
  },
  {
   "cell_type": "code",
   "execution_count": null,
   "metadata": {},
   "outputs": [],
   "source": [
    "v1 <- c(175, 182, 150, 187, 165)\n",
    "n <- length(v1)\n",
    "v2 <- rep(NA, n)\n",
    "for(i in 1:n) {\n",
    "    v2[i] <- v1[i] / 100\n",
    "}\n",
    "v2"
   ]
  },
  {
   "cell_type": "markdown",
   "metadata": {},
   "source": [
    "Of course, you can store outputs from the for loop in a vector within a data \n",
    "frame. Say we had the following data frame with names and heights:"
   ]
  },
  {
   "cell_type": "code",
   "execution_count": null,
   "metadata": {},
   "outputs": [],
   "source": [
    "ppl <- data.frame(person = letters[1:5], height_cm = v1)\n",
    "ppl"
   ]
  },
  {
   "cell_type": "markdown",
   "metadata": {},
   "source": [
    "Let's add a variable that expresses height in inches instead:"
   ]
  },
  {
   "cell_type": "code",
   "execution_count": null,
   "metadata": {},
   "outputs": [],
   "source": [
    "ppl$height_inch <- NA                                     #add variable of NAs\n",
    "n <- nrow(ppl)                                            #get number of observations to loop over\n",
    "for(i in 1:n){\n",
    "    ppl$height_inch[i] <- ppl$height_cm[i] * 0.393701\n",
    "}\n",
    "ppl"
   ]
  },
  {
   "cell_type": "markdown",
   "metadata": {},
   "source": [
    "Note that when adding a constant or `NA` values to a vector within a\n",
    "data frame, `R` (correctly) assumes that you want to add this constant to every \n",
    "element of the variable, so you don't need to specify how many times you want to \n",
    "add `NA` in `ppl$height_inch <- NA`. \n",
    "\n",
    "\n",
    "An appliction\n",
    "==================\n",
    "\n",
    "For loops can be used to carry out Monte Carlo simulations. In the\n",
    "example below, we'll draw repeated samples from a population,\n",
    "calculate the mean for each sample, and test whether we on average do\n",
    "a good job of estimating the population mean. \n",
    "\n",
    "Say the population consists of 10 individuals with the following heights:"
   ]
  },
  {
   "cell_type": "code",
   "execution_count": null,
   "metadata": {},
   "outputs": [],
   "source": [
    "v <- c(175, 182, 150, 187, 165, 177, 200, 198, 157, 165)\n",
    "mean(v)    #population mean"
   ]
  },
  {
   "cell_type": "markdown",
   "metadata": {},
   "source": [
    "Unfortunately, for whatever reason, we do not know the heights of all\n",
    "of these individuals. We can only (randomly) sample 5 of them. From\n",
    "this random sample of five individuals we estimate the height of all\n",
    "10 individuals. We can draw a sample of 5 from `v` and take the mean\n",
    "of this sample using the following code:"
   ]
  },
  {
   "cell_type": "code",
   "execution_count": null,
   "metadata": {},
   "outputs": [],
   "source": [
    "v <- c(175, 182, 150, 187, 165, 177, 200, 198, 157, 165)\n",
    "smpl <- sample(v, 5)\n",
    "mean(smpl)"
   ]
  },
  {
   "cell_type": "markdown",
   "metadata": {},
   "source": [
    "Would we on average expect to estimate the mean of the population\n",
    "accurately?  Let's use a Monte Carlo simulation to find out. We'll\n",
    "draw 10,000 random samples of five from `v` and take the mean of each\n",
    "of these samples. With an unbiased estimator we would, on average,\n",
    "expect the sample estimate to equal the population parameter of\n",
    "interest."
   ]
  },
  {
   "cell_type": "code",
   "execution_count": null,
   "metadata": {},
   "outputs": [],
   "source": [
    "n <- 10000\n",
    "smpl_means <- rep(NA, n)\n",
    "for(i in 1:n){\n",
    "    smpl <- sample(v, 5)\n",
    "    smpl_means[i] <- mean(smpl)\n",
    "}\n",
    "\n",
    "mean(smpl_means)"
   ]
  }
 ],
 "metadata": {
  "kernelspec": {
   "display_name": "R",
   "language": "R",
   "name": "ir"
  },
  "language_info": {
   "codemirror_mode": "r",
   "file_extension": ".r",
   "mimetype": "text/x-r-source",
   "name": "R",
   "pygments_lexer": "r",
   "version": "3.5.2"
  }
 },
 "nbformat": 4,
 "nbformat_minor": 2
}
